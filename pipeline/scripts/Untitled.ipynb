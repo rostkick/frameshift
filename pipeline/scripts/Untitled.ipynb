{
 "cells": [
  {
   "cell_type": "code",
   "execution_count": 11,
   "metadata": {},
   "outputs": [],
   "source": [
    "import re\n",
    "import argparse\n",
    "import os"
   ]
  },
  {
   "cell_type": "code",
   "execution_count": 8,
   "metadata": {},
   "outputs": [],
   "source": [
    "with open('../pipeline/Snakefile_bak') as f:\n",
    "    file = f.read()"
   ]
  },
  {
   "cell_type": "code",
   "execution_count": 9,
   "metadata": {},
   "outputs": [],
   "source": [
    "file = re.sub('{MIN_ORF_LENGTH}', '300', file)\n",
    "file = re.sub('{MIN_INT_LENGTH}', '100', file)\n",
    "file = re.sub('{SEQ_IDENTITY}', '0.75', file)\n",
    "file = re.sub('{SEQ_LEN_CUTOFF}', '0.75', file)"
   ]
  },
  {
   "cell_type": "code",
   "execution_count": 19,
   "metadata": {},
   "outputs": [
    {
     "data": {
      "text/plain": [
       "'\\n\\nrule get_orf:\\n\\tinput: \"data/Sclerotinia_sclerotiorum.ASM14694v1.dna.toplevel.fa\"\\n\\toutput: \"data/Scler_predicted_orfs.fasta\"\\n\\tshell: \"getorf -sequence {input} -outseq {output} -find 3\"\\n\\nrule get_frame_shifts:\\n\\tinput:\\n\\t\\tdna = \"data/Scler_predicted_orfs.fasta\",\\n\\t\\tgenome = \"data/Sclerotinia_sclerotiorum.ASM14694v1.dna.toplevel.fa\"\\n\\toutput: \"data/Scler_300_100.txt\"\\n\\trun:\\n\\t\\tshell(\"python3 scripts/Frshft_FINDER.py -input_dna {input.dna} -input_genome {input.genome} -min_orf 300 -interval_length 100 -output {output}\")\\n\\nrule get_intersected_prot:\\n\\tinput: \"data/Scler_300_100.txt\"\\n\\toutput: \"data/Scler_300_100_intersected_prot.fasta\"\\n\\tshell: \"grep -i \\'PROT_INTER\\' -A1 {input} | grep -v \\'\\\\-\\\\-\\' > {output}\"\\n\\nrule cdhit_filter:\\n\\tinput: \"data/Scler_300_100_intersected_prot.fasta\"\\n\\toutput: \"data/Scler_300_100_cdhit_filtred.fasta\"\\n\\tshell: \"cdhit -i {input} -o {output} -c 0.75 -s 0.75\"\\n'"
      ]
     },
     "execution_count": 19,
     "metadata": {},
     "output_type": "execute_result"
    }
   ],
   "source": [
    "this is the default cd-hit's \"global sequence identity\" calculated as:\n",
    "# \t\t\t\t\t\t\t\t   # number of identical amino acids in alignment\n",
    "# \t\t\t\t\t\t\t\t   # divided by the full length of the shorter sequence"
   ]
  },
  {
   "cell_type": "code",
   "execution_count": 25,
   "metadata": {},
   "outputs": [
    {
     "name": "stdout",
     "output_type": "stream",
     "text": [
      "\n",
      "\n",
      "rule get_orf:\n",
      "\tinput: \"../pipeline/data/Sclerotinia_sclerotiorum.ASM14694v1.dna.toplevel.fa\"\n",
      "\toutput: \"../pipeline/data/Scler_predicted_orfs.fasta\"\n",
      "\tshell: \"getorf -sequence {input} -outseq {output} -find 3\"\n",
      "\n",
      "rule get_frame_shifts:\n",
      "\tinput:\n",
      "\t\tdna = \"../pipeline/data/Scler_predicted_orfs.fasta\",\n",
      "\t\tgenome = \"../pipeline/data/Sclerotinia_sclerotiorum.ASM14694v1.dna.toplevel.fa\"\n",
      "\toutput: \"../pipeline/data/Scler_300_100.txt\"\n",
      "\trun:\n",
      "\t\tshell(f\"python3 ../pipeline/scripts/Frshft_FINDER.py -input_dna {input.dna} -input_genome {input.genome} -min_orf 300 -interval_length 100 -output {output}\")\n",
      "\n",
      "rule get_intersected_prot:\n",
      "\tinput: \"../pipeline/data/Scler_300_100.txt\"\n",
      "\toutput: \"../pipeline/data/Scler_300_100_intersected_prot.fasta\"\n",
      "\tshell: \"grep -i 'PROT_INTER' -A1 {input} | grep -v '\\-\\-' > {output}\"\n",
      "\n",
      "rule cdhit_filter:\n",
      "\tinput: \"../pipeline/data/Scler_300_100_intersected_prot.fasta\"\n",
      "\toutput: \"../pipeline/data/Scler_300_100_cdhit_filtred.fasta\"\n",
      "\tshell: \"cdhit -i {input} -o {output} -c 0.75 -s 0.75\"\n",
      "\n",
      "\n",
      "\n"
     ]
    }
   ],
   "source": [
    "import re\n",
    "import argparse\n",
    "import os\n",
    "\n",
    "def main(args):\n",
    "\n",
    "    with open(args.pipeline) as f:\n",
    "        file = f.read()\n",
    "    \n",
    "    file = re.sub('{GENOME}', args.genome, file)\n",
    "    file = re.sub('{DATA_PATH}', os.path.dirname(args.genome)+\"/\", file)\n",
    "    file = re.sub('{SCRIPTS_PATH}', args.scripts_path.rstrip('/')+'/', file)\n",
    "    file = re.sub('{PREFIX}', args.prefix, file)\n",
    "    file = re.sub('{MIN_ORF_LENGTH}', args.min_orf, file)\n",
    "    file = re.sub('{MIN_INT_LENGTH}', args.min_int, file)\n",
    "    file = re.sub('{SEQ_IDENTITY}', args.seq_I, file)\n",
    "    file = re.sub('{SEQ_LEN_CUTOFF}', args.seq_L, file)\n",
    "    \n",
    "    print(file)\n",
    "    \n",
    "if __name__=='__main__':\n",
    "    \n",
    "#     parser = argparse.ArgumentParser(\n",
    "#         formatter_class=argparse.ArgumentDefaultsHelpFormatter)\n",
    "    \n",
    "#     parser.add_argument('-pipeline', type=str, help='The path to the input genome.')\n",
    "#     parser.add_argument('-genome', type=str, help='The path to the input genome.')\n",
    "#     parser.add_argument('-prefix', type=str, help='Additional prefix for your files with delimeter f.e. \"hg19_\".')\n",
    "#     parser.add_argument('-min_orf', type=str, default='300', help='Min ORF length.')\n",
    "#     parser.add_argument('-min_int', type=str, default='100', help='Min interval length')\n",
    "#     parser.add_argument('-seq_I', type=str, default='0.75', help=\"This is the default cd-hit's 'global sequence identity' calculated as:\\nnumber of identical amino acids in alignment\\ndivided by the full length of the shorter sequence.\")\n",
    "#     parser.add_argument('-seq_L', type=str, default='0.75', help=\"this is the default cd-hit's 'length identity cutoff',\\nf.e., if set to 0.9, the shorter sequences need to be\\nat least 90% length of the representative of the cluster\")\n",
    "#     args = parser.parse_args()\n",
    "    \n",
    "    class Args():\n",
    "        def __init__(self):\n",
    "            self.pipeline = '../pipeline/Snakefile.template'\n",
    "            self.genome = '../pipeline/data/Sclerotinia_sclerotiorum.ASM14694v1.dna.toplevel.fa'\n",
    "            self.scripts_path = '../pipeline/scripts/'\n",
    "            self.prefix = 'Scler_'\n",
    "            self.min_orf = '300'\n",
    "            self.min_int = '100'\n",
    "            self.seq_I = '0.75'\n",
    "            self.seq_L = '0.75'\n",
    "    args = Args()\n",
    "    main(args)\n",
    "    "
   ]
  },
  {
   "cell_type": "code",
   "execution_count": 20,
   "metadata": {},
   "outputs": [
    {
     "data": {
      "text/plain": [
       "'../pipeline/data'"
      ]
     },
     "execution_count": 20,
     "metadata": {},
     "output_type": "execute_result"
    }
   ],
   "source": [
    "os.path.dirname('../pipeline/data/Sclerotinia_sclerotiorum.ASM14694v1.dna.toplevel.fa')"
   ]
  },
  {
   "cell_type": "code",
   "execution_count": null,
   "metadata": {},
   "outputs": [],
   "source": []
  }
 ],
 "metadata": {
  "kernelspec": {
   "display_name": "Python 3",
   "language": "python",
   "name": "python3"
  },
  "language_info": {
   "codemirror_mode": {
    "name": "ipython",
    "version": 3
   },
   "file_extension": ".py",
   "mimetype": "text/x-python",
   "name": "python",
   "nbconvert_exporter": "python",
   "pygments_lexer": "ipython3",
   "version": "3.6.5"
  }
 },
 "nbformat": 4,
 "nbformat_minor": 2
}
